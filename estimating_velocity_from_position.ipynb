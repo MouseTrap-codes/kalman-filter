{
 "cells": [
  {
   "cell_type": "markdown",
   "id": "ef730633",
   "metadata": {},
   "source": [
    "# Estimating Velocity from Position"
   ]
  },
  {
   "cell_type": "code",
   "execution_count": 1,
   "id": "ceabdbd3",
   "metadata": {},
   "outputs": [],
   "source": [
    "# install dependencies\n",
    "# !pip install numpy matplotlib"
   ]
  },
  {
   "cell_type": "code",
   "execution_count": 2,
   "id": "7fe47396",
   "metadata": {},
   "outputs": [],
   "source": [
    "import numpy as np\n",
    "import matplotlib.pyplot as plt"
   ]
  },
  {
   "cell_type": "code",
   "execution_count": null,
   "id": "87898f4f",
   "metadata": {},
   "outputs": [],
   "source": [
    "def kalman_filter(system_initial_values, estimate_and_covar_initial_values, measurements):\n",
    "    # arrays for tracking\n",
    "    x_estimates = []\n",
    "    K_values = []\n",
    "    P_values = []\n",
    "\n",
    "    # initialize system variables\n",
    "    A, H, Q, R = system_initial_values\n",
    "\n",
    "    # check if shapes of matrices are correct\n",
    "    assert A.shape[0] == A.shape[1], \"A must be square\"\n",
    "    assert A.shape == Q.shape, \"A and Q must be same shape\"\n",
    "    assert H.shape[1] == A.shape[1], \"H must match state dimensions\"\n",
    "\n",
    "\n",
    "    # Step 0: Set initial values\n",
    "    x, P = estimate_and_covar_initial_values\n",
    "\n",
    "    # main loop: Prediction + Estimation\n",
    "    for k in range(len(measurements)):\n",
    "        # Step 1: Predict State and Error Covariance\n",
    "        x_pred = A @ x\n",
    "        P_pred = A @ P @ A.T + Q\n",
    "\n",
    "        # Step 2: Compute the Kalman Gain\n",
    "        K = P_pred @ H.T @ np.linalg.inv(H @ P_pred @ H.T + R)\n",
    "\n",
    "        # Step 3: Compute the Estimate\n",
    "        x = x_pred + K @ (measurements[k] - H @ x_pred)\n",
    "\n",
    "        # Step 4: Compute the Error Covariance\n",
    "        P = P_pred - K @ H @ P_pred\n",
    "\n",
    "        # add current estimate to array for tracking\n",
    "        x_estimates.append(x.copy())\n",
    "        K_values.append(K.copy())\n",
    "        P_values.append(P.copy())\n",
    "    \n",
    "    return {\n",
    "            \"final_estimate\": x, \n",
    "            \"estimates_over_time\": x_estimates, \n",
    "            \"kalman_gains\": K_values, \n",
    "            \"error_covariances\": P_values\n",
    "        }"
   ]
  }
 ],
 "metadata": {
  "kernelspec": {
   "display_name": "base",
   "language": "python",
   "name": "python3"
  },
  "language_info": {
   "codemirror_mode": {
    "name": "ipython",
    "version": 3
   },
   "file_extension": ".py",
   "mimetype": "text/x-python",
   "name": "python",
   "nbconvert_exporter": "python",
   "pygments_lexer": "ipython3",
   "version": "3.13.4"
  }
 },
 "nbformat": 4,
 "nbformat_minor": 5
}
