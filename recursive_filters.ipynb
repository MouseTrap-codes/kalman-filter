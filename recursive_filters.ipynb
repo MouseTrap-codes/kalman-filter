{
 "cells": [
  {
   "cell_type": "code",
   "execution_count": null,
   "id": "5b79ba3f",
   "metadata": {},
   "outputs": [
    {
     "name": "stdout",
     "output_type": "stream",
     "text": [
      "20.0\n"
     ]
    }
   ],
   "source": [
    "# recursive expression for the average\n",
    "def average_filter(prev_avg, new_data_point, k):\n",
    "    alpha = (1 - 1/k)\n",
    "    return alpha * prev_avg + (1 - alpha) * new_data_point\n",
    "\n",
    "# example: average x = [10, 20, 30]\n",
    "x = [10, 20, 30]\n",
    "running_avg = 0\n",
    "k = 1\n",
    "for i in range(len(x)):\n",
    "    running_avg = average_filter(running_avg, x[i], k)\n",
    "    k += 1\n",
    "\n",
    "print(running_avg)"
   ]
  }
 ],
 "metadata": {
  "kernelspec": {
   "display_name": "base",
   "language": "python",
   "name": "python3"
  },
  "language_info": {
   "codemirror_mode": {
    "name": "ipython",
    "version": 3
   },
   "file_extension": ".py",
   "mimetype": "text/x-python",
   "name": "python",
   "nbconvert_exporter": "python",
   "pygments_lexer": "ipython3",
   "version": "3.13.4"
  }
 },
 "nbformat": 4,
 "nbformat_minor": 5
}
