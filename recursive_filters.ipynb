{
 "cells": [
  {
   "cell_type": "code",
   "execution_count": 6,
   "id": "5b79ba3f",
   "metadata": {},
   "outputs": [
    {
     "name": "stdout",
     "output_type": "stream",
     "text": [
      "20.0\n"
     ]
    }
   ],
   "source": [
    "# recursive expression for the average\n",
    "def recursive_expression_for_average(prev_avg, new_data_point, k):\n",
    "    return ((k - 1) / k) * prev_avg + (1 / k) * new_data_point\n",
    "\n",
    "# example: average x = [10, 20, 30]\n",
    "x = [10, 20, 30]\n",
    "running_avg = 0\n",
    "k = 1\n",
    "for i in range(len(x)):\n",
    "    running_avg = recursive_expression_for_average(running_avg, x[i], k)\n",
    "    k += 1\n",
    "\n",
    "print(running_avg)"
   ]
  }
 ],
 "metadata": {
  "kernelspec": {
   "display_name": "base",
   "language": "python",
   "name": "python3"
  },
  "language_info": {
   "codemirror_mode": {
    "name": "ipython",
    "version": 3
   },
   "file_extension": ".py",
   "mimetype": "text/x-python",
   "name": "python",
   "nbconvert_exporter": "python",
   "pygments_lexer": "ipython3",
   "version": "3.13.4"
  }
 },
 "nbformat": 4,
 "nbformat_minor": 5
}
