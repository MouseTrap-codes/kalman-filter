{
 "cells": [
  {
   "cell_type": "markdown",
   "id": "6fd5f570",
   "metadata": {},
   "source": [
    "#Simple Kalman Filter Example\n",
    "using Kalman Filter to get voltage estimates from a battery\n",
    "voltage is a constant\n",
    "measurements will fluctuate"
   ]
  },
  {
   "cell_type": "code",
   "execution_count": 2,
   "id": "c5743018",
   "metadata": {},
   "outputs": [],
   "source": [
    "# install dependencies\n",
    "# !pip install numpy matplotlib"
   ]
  },
  {
   "cell_type": "code",
   "execution_count": 3,
   "id": "bd6ebba0",
   "metadata": {},
   "outputs": [],
   "source": [
    "import numpy as np\n",
    "import matplotlib as plt"
   ]
  },
  {
   "cell_type": "code",
   "execution_count": 5,
   "id": "960f16d1",
   "metadata": {},
   "outputs": [],
   "source": [
    "# using Kalman Filter to get voltage estimates from a battery\n",
    "# voltage is a constant\n",
    "# measurements will fluctuate"
   ]
  },
  {
   "cell_type": "code",
   "execution_count": 4,
   "id": "ad2d42e2",
   "metadata": {},
   "outputs": [],
   "source": [
    "# initialize system variables\n",
    "A = 1 # state transition matrix (nxn matrix)\n",
    "H = 1 # state-to-measurement matrix (mxn matrix)\n",
    "Q = 0 # covariance matrix of w_k (nxn diagonal matrix)\n",
    "R = 0 # covariance matrix of v_k (mxm diagaonal matrix)"
   ]
  }
 ],
 "metadata": {
  "kernelspec": {
   "display_name": "base",
   "language": "python",
   "name": "python3"
  },
  "language_info": {
   "codemirror_mode": {
    "name": "ipython",
    "version": 3
   },
   "file_extension": ".py",
   "mimetype": "text/x-python",
   "name": "python",
   "nbconvert_exporter": "python",
   "pygments_lexer": "ipython3",
   "version": "3.13.4"
  }
 },
 "nbformat": 4,
 "nbformat_minor": 5
}
