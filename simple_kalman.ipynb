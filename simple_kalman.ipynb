{
 "cells": [
  {
   "cell_type": "markdown",
   "id": "6fd5f570",
   "metadata": {},
   "source": [
    "Simple Kalman Filter Example\n",
    "\n",
    "- using Kalman Filter to get voltage estimates from a battery\n",
    "\n",
    "- voltage is a constant\n",
    "\n",
    "- measurements will fluctuate"
   ]
  },
  {
   "cell_type": "code",
   "execution_count": 12,
   "id": "c5743018",
   "metadata": {},
   "outputs": [],
   "source": [
    "# install dependencies\n",
    "# !pip install numpy matplotlib"
   ]
  },
  {
   "cell_type": "code",
   "execution_count": 3,
   "id": "bd6ebba0",
   "metadata": {},
   "outputs": [],
   "source": [
    "import numpy as np\n",
    "import matplotlib as plt"
   ]
  },
  {
   "cell_type": "code",
   "execution_count": 28,
   "id": "cfa187d3",
   "metadata": {},
   "outputs": [],
   "source": [
    "# helper function to get voltage\n",
    "def getVoltage():\n",
    "    v = np.random.uniform(low=-4, high=4)\n",
    "    z = 14.4 + v\n",
    "    return z"
   ]
  },
  {
   "cell_type": "code",
   "execution_count": 29,
   "id": "97d1cd33",
   "metadata": {},
   "outputs": [],
   "source": [
    "# read measurements from battery (imaginary)\n",
    "def get_measurements():\n",
    "    measurements = []\n",
    "    dt = 0.2 # time step (s)\n",
    "    t = 10 # total seconds\n",
    "    nSamples = int(t / dt)\n",
    "    for _ in range(nSamples):\n",
    "        measurements.append(getVoltage())\n",
    "\n",
    "    return measurements"
   ]
  },
  {
   "cell_type": "code",
   "execution_count": 18,
   "id": "f176dc98",
   "metadata": {},
   "outputs": [],
   "source": [
    "def simple_kalman(system_initial_values, estimate_and_covar_initial_values, measurements):\n",
    "    # initialize system variables\n",
    "    A = system_initial_values[0] # state transition matrix (nxn matrix)\n",
    "    H = system_initial_values[1] # state-to-measurement matrix (mxn matrix)\n",
    "    Q = system_initial_values[2] # covariance matrix of w_k (nxn diagonal matrix)\n",
    "    R = system_initial_values[3] # covariance matrix of v_k (mxm diagaonal matrix)\n",
    "\n",
    "    # Step 0: Set initial values\n",
    "    x = estimate_and_covar_initial_values[0]\n",
    "    P = estimate_and_covar_initial_values[1]\n",
    "\n",
    "    # main loop: Prediction + Estimation\n",
    "\n",
    "    for k in range(len(measurements)):\n",
    "        # Step 1: Predict State and Error Covariance\n",
    "        x_pred = A @ x\n",
    "        P_pred = A @ P @ A.T + Q\n",
    "\n",
    "        # Step 2: Compute the Kalman Gain\n",
    "        K = P_pred @ H.T @ np.linalg.inv(H @ P_pred @ H.T + R)\n",
    "\n",
    "        # Step 3: Compute the Estimate\n",
    "        x = x_pred + K @ (measurements[k] - H @ x_pred)\n",
    "\n",
    "        # Step 4: Compute the Error Covariance\n",
    "        P = P_pred - K @ H @ P_pred\n",
    "    \n",
    "    return x"
   ]
  },
  {
   "cell_type": "code",
   "execution_count": 39,
   "id": "8132b7fc",
   "metadata": {},
   "outputs": [
    {
     "name": "stdout",
     "output_type": "stream",
     "text": [
      "[[14.58699248]]\n"
     ]
    }
   ],
   "source": [
    "# read voltages\n",
    "voltages = get_measurements()\n",
    "\n",
    "# use Kalman Filter\n",
    "voltage = simple_kalman(\n",
    "    [np.array([[1]]), np.array([[1]]), np.array([[0]]), np.array([[4]])],\n",
    "    [np.array([[14]]), np.array([[6]])],\n",
    "    voltages\n",
    "    )\n",
    "\n",
    "print(voltage)"
   ]
  },
  {
   "cell_type": "code",
   "execution_count": null,
   "id": "f5c17fe0",
   "metadata": {},
   "outputs": [],
   "source": [
    "#"
   ]
  }
 ],
 "metadata": {
  "kernelspec": {
   "display_name": "base",
   "language": "python",
   "name": "python3"
  },
  "language_info": {
   "codemirror_mode": {
    "name": "ipython",
    "version": 3
   },
   "file_extension": ".py",
   "mimetype": "text/x-python",
   "name": "python",
   "nbconvert_exporter": "python",
   "pygments_lexer": "ipython3",
   "version": "3.13.4"
  }
 },
 "nbformat": 4,
 "nbformat_minor": 5
}
